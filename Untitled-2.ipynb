{
 "cells": [
  {
   "cell_type": "code",
   "execution_count": 2,
   "metadata": {},
   "outputs": [
    {
     "name": "stdout",
     "output_type": "stream",
     "text": [
      "에버랜드에 대해 설명해줘. 존댓말로\n",
      " 표현하자면, 에버랜드는 삼성그룹의 계열사로 *** *** *** *** 전대리에 위치한 테마파크이다.\n",
      "1976년 3월 중앙개발(주)이라는 상호로 설립되었으며, 1979년 4월 (주)용인자연농원으로 상호를 변경하였다. 1996년 1월 자연농원에서 에버랜드로 명칭을 변경하였고, 2001년 12월 코스닥시장에 상장되었다. 2007년 7월 제일모직(주)이 지분 100%를 인수하여 자회사가 되었다. 2008년 5월 사명을 지금의 ‘에버랜드’로 변경하였다.\n"
     ]
    }
   ],
   "source": [
    "import base64\n",
    "import json\n",
    "import http.client\n",
    "\n",
    "\n",
    "class CompletionExecutor:\n",
    "    def __init__(self, host, api_key, api_key_primary_val, request_id):\n",
    "        self._host = host\n",
    "        self._api_key = api_key\n",
    "        self._api_key_primary_val = api_key_primary_val\n",
    "        self._request_id = request_id\n",
    "\n",
    "    def _send_request(self, completion_request):\n",
    "        headers = {\n",
    "            'Content-Type': 'application/json; charset=utf-8',\n",
    "            'X-NCP-CLOVASTUDIO-API-KEY': self._api_key,\n",
    "            'X-NCP-APIGW-API-KEY': self._api_key_primary_val,\n",
    "            'X-NCP-CLOVASTUDIO-REQUEST-ID': self._request_id\n",
    "        }\n",
    "\n",
    "        conn = http.client.HTTPSConnection(self._host)\n",
    "        conn.request('POST', '/testapp/v1/tasks/k6mnbb4m/completions', json.dumps(completion_request), headers)\n",
    "        response = conn.getresponse()\n",
    "        result = json.loads(response.read().decode(encoding='utf-8'))\n",
    "        conn.close()\n",
    "        return result\n",
    "\n",
    "    def execute(self, completion_request):\n",
    "        res = self._send_request(completion_request)\n",
    "        if res['status']['code'] == '20000':\n",
    "            return res['result']['text']\n",
    "        else:\n",
    "            return 'Error'\n",
    "\n",
    "\n",
    "if __name__ == '__main__':\n",
    "    completion_executor = CompletionExecutor(\n",
    "        host='clovastudio.apigw.ntruss.com',\n",
    "        api_key='NTA0MjU2MWZlZTcxNDJiY2i29nFs9ENj92OyaEXfroczlL4X+KirPGTGhKa/vG3qQU9f3Fjndv1mjvLr6v9gV4xS+heG/cbKhTqdwWLGxN477N021QR3c6HhWQC1H9CT21+3bnT0UDXbOuXzYidEbYL6PGChN5nWJVRwJlNirqTgHhsmFaQwRGdLjFjdKRVwh/iwk1pYbSQu/CVajH5BVA==',\n",
    "        api_key_primary_val = 'UBwKtmApo6wH5wCrtUtp7AqxpnkNC9aLSWvxFNSE',\n",
    "        request_id='b7259e9b6711491fa284afd770997d15'\n",
    "    )\n",
    "\n",
    "    preset_text = '에버랜드에 대해 설명해줘. 존댓말로'\n",
    "\n",
    "    request_data = {\n",
    "        'text': preset_text,\n",
    "        'start': '',\n",
    "        'restart': '',\n",
    "        'includeTokens': False,\n",
    "        'topP': 0.8,\n",
    "        'topK': 4,\n",
    "        'maxTokens': 300,\n",
    "        'temperature': 0.85,\n",
    "        'repeatPenalty': 5.0,\n",
    "        'stopBefore': ['<|endoftext|>'],\n",
    "        'includeAiFilters': True,\n",
    "        'includeProbs': False\n",
    "    }\n",
    "\n",
    "    response_text = completion_executor.execute(request_data)\n",
    "    print(preset_text)\n",
    "    print(response_text)\n"
   ]
  },
  {
   "cell_type": "code",
   "execution_count": null,
   "metadata": {},
   "outputs": [],
   "source": []
  }
 ],
 "metadata": {
  "kernelspec": {
   "display_name": "Python 3",
   "language": "python",
   "name": "python3"
  },
  "language_info": {
   "codemirror_mode": {
    "name": "ipython",
    "version": 3
   },
   "file_extension": ".py",
   "mimetype": "text/x-python",
   "name": "python",
   "nbconvert_exporter": "python",
   "pygments_lexer": "ipython3",
   "version": "3.9.6"
  },
  "orig_nbformat": 4
 },
 "nbformat": 4,
 "nbformat_minor": 2
}
