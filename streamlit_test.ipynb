{
 "cells": [
  {
   "cell_type": "code",
   "execution_count": 1,
   "metadata": {},
   "outputs": [
    {
     "name": "stderr",
     "output_type": "stream",
     "text": [
      "/Users/michaelsong/Library/Python/3.9/lib/python/site-packages/urllib3/__init__.py:34: NotOpenSSLWarning: urllib3 v2.0 only supports OpenSSL 1.1.1+, currently the 'ssl' module is compiled with 'LibreSSL 2.8.3'. See: https://github.com/urllib3/urllib3/issues/3020\n",
      "  warnings.warn(\n"
     ]
    }
   ],
   "source": [
    "import pandas as pd\n",
    "from embedding_query import embedding_query\n",
    "from answer_llm import answer_llm\n",
    "from answer_llm_2 import answer_llm2\n",
    "from numpy import dot\n",
    "from numpy.linalg import norm"
   ]
  },
  {
   "cell_type": "code",
   "execution_count": 2,
   "metadata": {},
   "outputs": [],
   "source": [
    "segments = pd.read_pickle(\"segments.pkl\")"
   ]
  },
  {
   "cell_type": "code",
   "execution_count": 3,
   "metadata": {},
   "outputs": [],
   "source": [
    "preset_text = \"자체규정마련등에관한 경과조치에 대해 설명해줘.\""
   ]
  },
  {
   "cell_type": "code",
   "execution_count": 4,
   "metadata": {},
   "outputs": [],
   "source": [
    "query_emb = embedding_query(preset_text)"
   ]
  },
  {
   "cell_type": "code",
   "execution_count": 5,
   "metadata": {},
   "outputs": [],
   "source": [
    "top_2 = []\n",
    "for i in range(len(segments)):\n",
    "    a = segments['vector'][i]\n",
    "    b = query_emb\n",
    "    cos_sim = dot(a, b)/(norm(a)*norm(b))\n",
    "    top_2.append(cos_sim)\n",
    "top_2 = sorted(range(len(top_2)), key=lambda i: top_2[i])[-2:]"
   ]
  },
  {
   "cell_type": "code",
   "execution_count": 6,
   "metadata": {},
   "outputs": [],
   "source": [
    "provided_data = \"\"\n",
    "provided_data = \"[정보]: \" + str(segments['origin'][top_2[0]]) + str(segments['origin'][top_2[1]])\n",
    "user_text = provided_data + \"\\n\\n\"+ preset_text"
   ]
  },
  {
   "cell_type": "code",
   "execution_count": 7,
   "metadata": {},
   "outputs": [],
   "source": [
    "answer = answer_llm(user_text)"
   ]
  },
  {
   "cell_type": "code",
   "execution_count": 10,
   "metadata": {},
   "outputs": [
    {
     "name": "stdout",
     "output_type": "stream",
     "text": [
      "이 규칙 시행 당시 연구개발기관의 장이 마련ᆞ운영 중인 자체규정에 제4조의 개정규정에 따른 사항이 포함되어 있지 않은 경우 그 연구개발기관의 장은 이 규칙 시행일부터 6개월 이내에 제4조의 개정규정에 따른 사항이 포함된 자체규정을 마련해야 합니다.\n"
     ]
    }
   ],
   "source": [
    "print(answer['result']['message']['content'])"
   ]
  },
  {
   "cell_type": "code",
   "execution_count": null,
   "metadata": {},
   "outputs": [],
   "source": [
    "query_emb = embedding_query(preset_text)\n",
    "\n",
    "top_2 = []\n",
    "for i in range(len(segments)):\n",
    "    a = segments['vector'][i]\n",
    "    b = query_emb\n",
    "    cos_sim = dot(a, b)/(norm(a)*norm(b))\n",
    "    top_2.append(cos_sim)\n",
    "top_2 = sorted(range(len(top_2)), key=lambda i: top_2[i])[-2:]\n",
    "\n",
    "provided_data = \"\"\n",
    "provided_data = \"[정보]: \" + str(segments['origin'][top_2[0]]) + str(segments['origin'][top_2[1]])\n",
    "user_text = provided_data + \"\\n\\n\"+ preset_text\n",
    "\n",
    "answer = answer_llm(user_text)\n",
    "st.write(\"Answer:\", answer)"
   ]
  }
 ],
 "metadata": {
  "kernelspec": {
   "display_name": "Python 3",
   "language": "python",
   "name": "python3"
  },
  "language_info": {
   "codemirror_mode": {
    "name": "ipython",
    "version": 3
   },
   "file_extension": ".py",
   "mimetype": "text/x-python",
   "name": "python",
   "nbconvert_exporter": "python",
   "pygments_lexer": "ipython3",
   "version": "3.9.6"
  },
  "orig_nbformat": 4
 },
 "nbformat": 4,
 "nbformat_minor": 2
}
