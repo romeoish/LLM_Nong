{
 "cells": [
  {
   "cell_type": "code",
   "execution_count": null,
   "metadata": {},
   "outputs": [],
   "source": [
    "import requests\n",
    "\n",
    "\n",
    "class CompletionExecutor:\n",
    "    def __init__(self, host, api_key, api_key_primary_val, request_id):\n",
    "        self._host = host\n",
    "        self._api_key = api_key\n",
    "        self._api_key_primary_val = api_key_primary_val\n",
    "        self._request_id = request_id\n",
    "\n",
    "    def execute(self, completion_request):\n",
    "        headers = {\n",
    "            'X-NCP-CLOVASTUDIO-API-KEY': self._api_key,\n",
    "            'X-NCP-APIGW-API-KEY': self._api_key_primary_val,\n",
    "            'X-NCP-CLOVASTUDIO-REQUEST-ID': self._request_id,\n",
    "            'Content-Type': 'application/json; charset=utf-8',\n",
    "            'Accept': 'text/event-stream'\n",
    "        }\n",
    "\n",
    "        with requests.post(self._host + '/testapp/v1/chat-completions/HCX-002',\n",
    "                           headers=headers, json=completion_request, stream=True) as r:\n",
    "            for line in r.iter_lines():\n",
    "                if line:\n",
    "                    print(line.decode(\"utf-8\"))\n",
    "\n",
    "\n",
    "if __name__ == '__main__':\n",
    "    completion_executor = CompletionExecutor(\n",
    "        host='https://clovastudio.stream.ntruss.com',\n",
    "        api_key='NTA0MjU2MWZlZTcxNDJiY2W+zUGmm5SHgsDJBy5F7SFNuVY1tJcJTyhUXLrTnekZA/u1pZ4oBJHvLUdIsvlF7IuPFlGGtnb832hcmD+YIJbrR9NUMFBsJ5TMyrl94jBAQ2amx/sFbZWnHAsqeuxxWMkUq0qXdhIUJ/VMhvlGCacQtF6NOAIpnGFb+7MURctOL5RYpMpwUwrB2LEgz8CMbWMKLGxpeliSD1a7IYTafiU=',\n",
    "        api_key_primary_val='UBwKtmApo6wH5wCrtUtp7AqxpnkNC9aLSWvxFNSE',\n",
    "        request_id='07781ea9bcc0408dbab9db60c8d7a31a'\n",
    "    )\n",
    "\n",
    "    preset_text = [{\"role\":\"system\",\"content\":\"-주어진 [정보]들을 읽고 [질문]에 답변을 작성해줘\\n-주어진 [정보]에서만 답변을 만들어줘\\n-[질문]에 대해서만 답변해\\n-[질문]에 해당되는 정보가 없으면 질문에 해당되는 정보가 없다고 대답해줘\"},{\"role\":\"user\",\"content\":\"[정보]:\\n3.부정행위검증결과및판단이유를부정행위제보자및조사대상자에게통보해야하는기한\\n4.부정행위검증결과에대한부정행위제보자및조사대상자의이의신청절차\\n[전문개정2022.12.16.]\\n부칙<제99호,2022.12.16.>\\n제1조(시행일)이규칙은공포한날부터시행한다.\\n제2조(표준연구개발계획서제출에관한적용례)별지제1호서식의개정규정은이규칙시행이후영제9조제1항\\n에따라공고하는공모또는영제10조제1항에따른중앙행정기관의장이연구개발계획서의 제출을요청하는\\n경우부터적용한다.\\n제3조(자체규정마련등에관한경과조치)이규칙시행당시연구개발기관의장이마련ㆍ운영중인자체규정에\\n제4조의개정규정에따른사항이포함되어있지않은경우그연구개발기관의장은이규칙시행일부터6개월\\n이내에제4조의개정규정에따른사항이포함된자체규정을마련해야한다.\\n\\n[질문]: 자체규정마련등에관한 경과조치에 대해 설명해줘.\\n\\n\"},{\"role\":\"assistant\",\"content\":\"자체규정 마련 등에 관한 경과조치는 다음과 같습니다.\\n\\n이 규칙 시행 당시 연구개발 기관의 장이 마련ᆞ운영 중인 자체규정에 제4조의 개정규정에 따른 사항이 포함되어 있지 않은 경우 그 연구개발 기관의 장은 이 규칙 시행일부터 6개월 이내에 제4조의 개정규정에 따른 사항이 포함된 자체규정을 마련해야 합니다.\\n\\n이는 새로운 규칙이 시행될 때 기존에 자체규정을 마련하지 않은 연구개발 기관들에게 일정 기간 내에 자체규정을 마련하도록 하기 위한 조치입니다. 이를 통해 새로운 규칙이 원활하게 적용될 수 있도록 하고, 연구개발 기관들의 공정성과 투명성을 확보할 수 있습니다.\"},{\"role\":\"user\",\"content\":\"[정보]:\\n3.부정행위검증결과및판단이유를부정행위제보자및조사대상자에게통보해야하는기한\\n4.부정행위검증결과에대한부정행위제보자및조사대상자의이의신청절차\\n[전문개정2022.12.16.]\\n부칙<제99호,2022.12.16.>\\n제1조(시행일)이규칙은공포한날부터시행한다.\\n제2조(표준연구개발계획서제출에관한적용례)별지제1호서식의개정규정은이규칙시행이후영제9조제1항\\n에따라공고하는공모또는영제10조제1항에따른중앙행정기관의장이연구개발계획서의 제출을요청하는\\n경우부터적용한다.\\n제3조(자체규정마련등에관한경과조치)이규칙시행당시연구개발기관의장이마련ㆍ운영중인자체규정에\\n제4조의개정규정에따른사항이포함되어있지않은경우그연구개발기관의장은이규칙시행일부터6개월\\n이내에제4조의개정규정에따른사항이포함된자체규정을마련해야한다.\\n\\n\\n[질문]: 내 이름이 뭐게?\"},{\"role\":\"assistant\",\"content\":\"이름에 대한 정보가 없습니다. 이름을 알려주시면 도움을 드릴 수 있습니다. \\n\\n다른 궁금한 점이나 도움이 필요한 사항이 있으시면 언제든지 말씀해주세요. 최선을 다해 도와드리겠습니다.\"},{\"role\":\"user\",\"content\":\"[정보]:\\n3.부정행위검증결과및판단이유를부정행위제보자및조사대상자에게통보해야하는기한\\n4.부정행위검증결과에대한부정행위제보자및조사대상자의이의신청절차\\n[전문개정2022.12.16.]\\n부칙<제99호,2022.12.16.>\\n제1조(시행일)이규칙은공포한날부터시행한다.\\n제2조(표준연구개발계획서제출에관한적용례)별지제1호서식의개정규정은이규칙시행이후영제9조제1항\\n에따라공고하는공모또는영제10조제1항에따른중앙행정기관의장이연구개발계획서의 제출을요청하는\\n경우부터적용한다.\\n제3조(자체규정마련등에관한경과조치)이규칙시행당시연구개발기관의장이마련ㆍ운영중인자체규정에\\n제4조의개정규정에따른사항이포함되어있지않은경우그연구개발기관의장은이규칙시행일부터6개월\\n이내에제4조의개정규정에따른사항이포함된자체규정을마련해야한다.\\n\\n\\n[질문]: 표준연구개발계획서제출에관한적용례에 대해 설명해줘\"},{\"role\":\"assistant\",\"content\":\"표준연구개발계획서 제출에 관한 적용례는 다음과 같습니다.\\n\\n별지 제1호 서식의 개정규정은 이 규칙 시행 이후 영 제9조제1항에 따라 공고하는 공모 또는 영 제10조제1항에 따른 중앙행정기관의 장이 연구개발계획서의 제출을 요청하는 경우부터 적용합니다.\\n\\n이는 새로운 규칙이 시행될 때 기존에 제출된 표준연구개발계획서에는 적용되지 않고, 새로 제출되는 표준연구개발계획서부터 적용된다는 것을 의미합니다. 이를 통해 새로운 규칙이 원활하게 적용될 수 있도록 하고, 연구개발 계획서의 체계적이고 효율적인 관리를 도모할 수 있습니다.\"}]\n",
    "\n",
    "    request_data = {\n",
    "        'messages': preset_text,\n",
    "        'topP': 0.8,\n",
    "        'topK': 0,\n",
    "        'maxTokens': 256,\n",
    "        'temperature': 0.5,\n",
    "        'repeatPenalty': 5.0,\n",
    "        'stopBefore': [],\n",
    "        'includeAiFilters': True\n",
    "    }\n",
    "\n",
    "    print(preset_text)\n",
    "    completion_executor.execute(request_data)\n"
   ]
  }
 ],
 "metadata": {
  "language_info": {
   "name": "python"
  },
  "orig_nbformat": 4
 },
 "nbformat": 4,
 "nbformat_minor": 2
}
